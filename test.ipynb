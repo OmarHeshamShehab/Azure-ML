{
 "cells": [
  {
   "cell_type": "code",
   "execution_count": null,
   "metadata": {},
   "outputs": [],
   "source": [
    "#! jupyter nbconvert --to script test.ipynb"
   ]
  },
  {
   "cell_type": "code",
   "execution_count": null,
   "metadata": {},
   "outputs": [],
   "source": [
    "from azureml.core import Workspace\n",
    "\n",
    "# Provide the subscription ID, resource group name, and workspace name\n",
    "subscription_id = \"0dd49ea4-49ce-412e-b274-385ffb01c578\"\n",
    "resource_group = \"MachineLearning-RG\"\n",
    "workspace_name = \"OHMS-AzureML\"\n",
    "\n",
    "# Connect to your workspace\n",
    "try:\n",
    "    workspace = Workspace(subscription_id, resource_group, workspace_name)\n",
    "    print(\"Workspace connection successful!\")\n",
    "    print(\"Workspace name:\", workspace.name)\n",
    "    print(\"Azure region:\", workspace.location)\n",
    "    print(\"Resource group:\", workspace.resource_group)\n",
    "except Exception as e:\n",
    "    print(\"Workspace connection failed:\", str(e))"
   ]
  },
  {
   "cell_type": "code",
   "execution_count": null,
   "metadata": {},
   "outputs": [],
   "source": [
    "from azureml.core.authentication import InteractiveLoginAuthentication\n",
    "from azureml.core import Workspace, Environment, Experiment, ScriptRunConfig\n",
    "from azureml.core.conda_dependencies import CondaDependencies\n",
    "from azureml.core.run import Run\n",
    "import numpy as np\n",
    "from sklearn.linear_model import LinearRegression\n",
    "import joblib"
   ]
  },
  {
   "cell_type": "code",
   "execution_count": null,
   "metadata": {},
   "outputs": [],
   "source": [
    "auth = InteractiveLoginAuthentication(tenant_id=\"864324a0-fbca-44b4-a025-ee7be7426f0b\")\n",
    "ws = Workspace.from_config(auth=auth)"
   ]
  },
  {
   "cell_type": "code",
   "execution_count": null,
   "metadata": {},
   "outputs": [],
   "source": [
    "conda_dep = CondaDependencies().create(conda_packages=[\"scikit-learn==1.1\"])\n",
    "myenv = Environment(name=\"myenv2\")\n",
    "myenv.python.conda_dependencies = conda_dep"
   ]
  },
  {
   "cell_type": "code",
   "execution_count": null,
   "metadata": {},
   "outputs": [],
   "source": [
    "celsius_q = np.array([-40, -10, 0, 8, 15, 22, 38], dtype=float)\n",
    "fahrenheit_a = np.array([-40, 14, 32, 46, 59, 72, 100], dtype=float)"
   ]
  },
  {
   "cell_type": "code",
   "execution_count": null,
   "metadata": {},
   "outputs": [],
   "source": [
    "X = celsius_q.reshape(-1, 1)\n",
    "model = LinearRegression()\n",
    "model.fit(X, fahrenheit_a)\n",
    "joblib.dump(model, \"model.pkl\")"
   ]
  },
  {
   "cell_type": "code",
   "execution_count": null,
   "metadata": {},
   "outputs": [],
   "source": [
    "experiment_name = \"test-25\"\n",
    "experiment = Experiment(workspace=ws, name=experiment_name)"
   ]
  },
  {
   "cell_type": "code",
   "execution_count": null,
   "metadata": {},
   "outputs": [],
   "source": [
    "script_config = ScriptRunConfig(\n",
    "    source_directory=\".\",\n",
    "    script=\"test.py\",  # Update script name if necessary\n",
    "    compute_target=\"VM-ML-2Cores-14GB\",  # Update compute target if necessary\n",
    "    environment=myenv,\n",
    ")"
   ]
  },
  {
   "cell_type": "code",
   "execution_count": 11,
   "metadata": {},
   "outputs": [],
   "source": [
    "run = experiment.submit(config=script_config)\n",
    "run.wait_for_completion(show_output=True)"
   ]
  }
 ],
 "metadata": {
  "kernelspec": {
   "display_name": "Python 3",
   "language": "python",
   "name": "python3"
  },
  "language_info": {
   "codemirror_mode": {
    "name": "ipython",
    "version": 3
   },
   "file_extension": ".py",
   "mimetype": "text/x-python",
   "name": "python",
   "nbconvert_exporter": "python",
   "pygments_lexer": "ipython3",
   "version": "3.8.19"
  }
 },
 "nbformat": 4,
 "nbformat_minor": 2
}
